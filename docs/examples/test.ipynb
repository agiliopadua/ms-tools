{
 "cells": [
  {
   "cell_type": "code",
   "execution_count": 1,
   "metadata": {},
   "outputs": [],
   "source": [
    "import sys\n",
    "from openmm import openmm as mm, app\n",
    "from mstk.topology import Molecule, Topology\n",
    "from mstk.forcefield import ForceField, ZftTyper\n",
    "from mstk.simsys import System\n",
    "from mstk.wrapper import Packmol\n",
    "from mstk import ommhelper as oh"
   ]
  },
  {
   "cell_type": "code",
   "execution_count": 2,
   "metadata": {
    "collapsed": false,
    "jupyter": {
     "outputs_hidden": false
    },
    "pycharm": {
     "name": "#%%\n"
    }
   },
   "outputs": [],
   "source": [
    "# Create topology from SMILES\n",
    "benzene = Molecule.from_smiles('c1ccccc1')\n",
    "water = Molecule.from_smiles('O')\n",
    "top = Topology([benzene, water])\n",
    "\n",
    "# Assign atom types as defined in `data/forcefield/primitive.zft`\n",
    "typer = ZftTyper('primitive.zft')\n",
    "typer.type(top)\n",
    "\n",
    "# Build a bulk liquid simulation box with Packmol\n",
    "packmol = Packmol('packmol')\n",
    "top.cell.set_box([4.0, 4.0, 4.0])\n",
    "top.scale_with_packmol([100, 1000], packmol=packmol)\n",
    "\n",
    "# Assign force field parameters as defined in `data/forcefield/primitive.zff`\n",
    "ff = ForceField.open('primitive.zff')\n",
    "ff.assign_charge(top)\n",
    "system = System(top, ff)\n",
    "\n",
    "# Generate input files for LAMMPS, GROMACS and NAMD\n",
    "# system.export_lammps()\n",
    "# system.export_gromacs()\n",
    "# system.export_namd()\n",
    "\n",
    "# Generate OpenMM system and topology\n",
    "omm_sys = system.to_omm_system()\n",
    "omm_top = top.to_omm_topology()"
   ]
  },
  {
   "cell_type": "code",
   "execution_count": 7,
   "metadata": {
    "collapsed": false,
    "jupyter": {
     "outputs_hidden": false
    },
    "pycharm": {
     "name": "#%%\n"
    }
   },
   "outputs": [],
   "source": [
    "# Init OpenMM simulation\n",
    "integrator = mm.LangevinMiddleIntegrator(300, 1.0, 0.002)\n",
    "platform = mm.Platform.getPlatformByName('CUDA')\n",
    "properties = {'Precision': 'Mixed'}\n",
    "sim = app.Simulation(omm_top, omm_sys, integrator, platform, properties)\n",
    "sim.reporters.append(oh.StateDataReporter(sys.stdout, 1000, forceGroups=[0,1,2,3,4,5,6,7]))\n",
    "sim.context.setPositions(top.positions)"
   ]
  },
  {
   "cell_type": "code",
   "execution_count": 8,
   "metadata": {
    "pycharm": {
     "name": "#%%\n"
    }
   },
   "outputs": [
    {
     "name": "stdout",
     "output_type": "stream",
     "text": [
      "#\"Step\"\t\"Temp\"\t\"E_pot\"\t\"Lx\"\t\"Ly\"\t\"Lz\"\t\"Density\"\t\"Speed\"\t\"E_0_CMMotionRemover\"\t\"E_1_Bond\"\t\"E_2_Angle\"\t\"E_3_Dihedral\"\t\"E_4_Improper\"\t\"E_5_vdW\"\t\"E_6_Coulomb\"\t\"E_7_\"\n",
      "1000\t422.28\t-28131.0325\t4.0000\t4.0000\t4.0000\t0.6701\t0\t0.0\t925.1385958477446\t1050.5873788215304\t962.823075601675\t95.32552105978436\t6361.746989757108\t-37526.653857005615\t0.0\n",
      "2000\t339.02\t-34997.5426\t4.0000\t4.0000\t4.0000\t0.6701\t330\t0.0\t907.2138834473368\t1044.2075855464916\t980.3761578219375\t98.22440142132075\t8461.045163182958\t-46488.60948139979\t0.0\n",
      "3000\t314.85\t-37546.7143\t4.0000\t4.0000\t4.0000\t0.6701\t339\t0.0\t1025.5265962855055\t1047.557320074509\t1078.0265859313286\t104.8619283705201\t9108.92813014646\t-49911.61495575178\t0.0\n",
      "4000\t303.74\t-38644.1277\t4.0000\t4.0000\t4.0000\t0.6701\t339\t0.0\t995.3156282119526\t1055.2746038790565\t1009.8599338456434\t105.84240799430461\t9221.104499448646\t-51031.52474673436\t0.0\n",
      "5000\t301.98\t-39054.1789\t4.0000\t4.0000\t4.0000\t0.6701\t337\t0.0\t993.689534151029\t1051.2243913859422\t1058.57555849264\t110.67350387180664\t9007.79650765395\t-51276.13825825151\t0.0\n",
      "6000\t307.49\t-39998.5157\t4.0000\t4.0000\t4.0000\t0.6701\t340\t0.0\t974.9481321537933\t1086.7541053987418\t1001.2426555379448\t93.7325319771004\t9398.154603576406\t-52553.34777884543\t0.0\n",
      "7000\t297.35\t-39883.9173\t4.0000\t4.0000\t4.0000\t0.6701\t333\t0.0\t984.1186212445173\t1028.9679955290271\t1022.782207404535\t105.08810627396866\t9363.078532003079\t-52387.9527486389\t0.0\n",
      "8000\t302.34\t-40432.6353\t4.0000\t4.0000\t4.0000\t0.6701\t336\t0.0\t863.6308715732107\t1008.7734641015943\t1002.4085018881959\t102.71371455252631\t9589.138055115916\t-52999.29992429676\t0.0\n",
      "9000\t300.59\t-40500.4542\t4.0000\t4.0000\t4.0000\t0.6701\t336\t0.0\t918.6800063641244\t1031.9879910047785\t1035.8984431610306\t102.46934814206554\t9213.02009522088\t-52802.51025889136\t0.0\n",
      "10000\t296.94\t-40617.4989\t4.0000\t4.0000\t4.0000\t0.6701\t332\t0.0\t1074.6382488617382\t1014.0647937998137\t965.566227462942\t97.8539352226644\t9407.321459041816\t-53176.94360983776\t0.0\n"
     ]
    }
   ],
   "source": [
    "sim.step(10000)"
   ]
  },
  {
   "cell_type": "code",
   "execution_count": null,
   "metadata": {},
   "outputs": [],
   "source": []
  }
 ],
 "metadata": {
  "kernelspec": {
   "display_name": "Python 3 (ipykernel)",
   "language": "python",
   "name": "python3"
  },
  "language_info": {
   "codemirror_mode": {
    "name": "ipython",
    "version": 3
   },
   "file_extension": ".py",
   "mimetype": "text/x-python",
   "name": "python",
   "nbconvert_exporter": "python",
   "pygments_lexer": "ipython3",
   "version": "3.10.13"
  }
 },
 "nbformat": 4,
 "nbformat_minor": 4
}